{
 "cells": [
  {
   "cell_type": "code",
   "execution_count": 16,
   "id": "ae006264-8428-480b-8eef-f3d28974fb2a",
   "metadata": {},
   "outputs": [],
   "source": [
    "%%capture\n",
    "!pip install pandas"
   ]
  },
  {
   "cell_type": "code",
   "execution_count": 1,
   "id": "eb881648-cdc8-4fdd-91db-f005f0d7d7cd",
   "metadata": {},
   "outputs": [],
   "source": [
    "import pandas as pd\n",
    "import numpy as np"
   ]
  },
  {
   "cell_type": "code",
   "execution_count": 2,
   "id": "f6f63cc7-e024-4f6e-83c6-2b58b325596c",
   "metadata": {},
   "outputs": [],
   "source": [
    "data = pd.read_csv(\"./Data/traineedf.csv\")"
   ]
  },
  {
   "cell_type": "code",
   "execution_count": null,
   "id": "723ff038-cc35-4543-a2e8-32af31628a93",
   "metadata": {},
   "outputs": [],
   "source": [
    "\"\"\"\n",
    "First, the data is seasonal and based on the month: is Periodic data Seuqnectial \n",
    "KPI: list of targets KPI Following ['OriginalGrossMargin', 'ActualGrossMargin', 'EACCostMargin'] \n",
    "\n",
    "Data will have two Splits :\n",
    "\n",
    "## create a functino mapping for F(input_1, input_2,input_3,input_4  Model (LLM . TimeSeries, Transformers ) = Y_margin \n",
    "CostObjectName is text NLP \n",
    "1. Variabkles : input is Targts  : MARGIN \n",
    "                        output : \n",
    "                        \n",
    "Finance LLM RAG system creating and Expter model LLM predation margin of the project                 \n",
    "\"\"\""
   ]
  },
  {
   "cell_type": "code",
   "execution_count": null,
   "id": "9af3ba55-db06-4f20-9a63-eae2f3679a2e",
   "metadata": {},
   "outputs": [],
   "source": [
    "\"\"\"\n",
    "1. descriptions Colsum\n",
    "2. Projects interesting \n",
    "2. ans PDf Deccirbe Proect \n",
    "4. Acess ro Colab data \n",
    "5. and example of Statausi analysis\n",
    "6. UI expectation \n",
    "\"\"\""
   ]
  },
  {
   "cell_type": "code",
   "execution_count": 4,
   "id": "23648260-9891-4864-9b54-57b0f4fd6069",
   "metadata": {},
   "outputs": [
    {
     "data": {
      "text/html": [
       "<div>\n",
       "<style scoped>\n",
       "    .dataframe tbody tr th:only-of-type {\n",
       "        vertical-align: middle;\n",
       "    }\n",
       "\n",
       "    .dataframe tbody tr th {\n",
       "        vertical-align: top;\n",
       "    }\n",
       "\n",
       "    .dataframe thead th {\n",
       "        text-align: right;\n",
       "    }\n",
       "</style>\n",
       "<table border=\"1\" class=\"dataframe\">\n",
       "  <thead>\n",
       "    <tr style=\"text-align: right;\">\n",
       "      <th></th>\n",
       "      <th>Unnamed: 0</th>\n",
       "      <th>HierarchyPathID</th>\n",
       "      <th>CostObjectID</th>\n",
       "      <th>CostObjectName</th>\n",
       "      <th>OriginalGrossMargin</th>\n",
       "      <th>ActualGrossMargin</th>\n",
       "      <th>EACCostMargin</th>\n",
       "      <th>ClientPostedHours</th>\n",
       "      <th>ClientPostedCost</th>\n",
       "      <th>CostObjectHierarchyLevel</th>\n",
       "      <th>ProjectStartDate</th>\n",
       "      <th>ProjectEndDate</th>\n",
       "      <th>TimePeriod</th>\n",
       "    </tr>\n",
       "  </thead>\n",
       "  <tbody>\n",
       "    <tr>\n",
       "      <th>0</th>\n",
       "      <td>0</td>\n",
       "      <td>QU9124.01</td>\n",
       "      <td>01</td>\n",
       "      <td>OCP Cadmium Removal Feasibility Study</td>\n",
       "      <td>531188</td>\n",
       "      <td>0</td>\n",
       "      <td>495060</td>\n",
       "      <td>1335</td>\n",
       "      <td>2275319</td>\n",
       "      <td>1</td>\n",
       "      <td>2021-01-29</td>\n",
       "      <td>2021-03-26</td>\n",
       "      <td>2024-02</td>\n",
       "    </tr>\n",
       "    <tr>\n",
       "      <th>1</th>\n",
       "      <td>1</td>\n",
       "      <td>QB2108.01</td>\n",
       "      <td>01</td>\n",
       "      <td>Home Office Suffix 01</td>\n",
       "      <td>0</td>\n",
       "      <td>0</td>\n",
       "      <td>0</td>\n",
       "      <td>916</td>\n",
       "      <td>430644</td>\n",
       "      <td>1</td>\n",
       "      <td>2022-01-03</td>\n",
       "      <td>2022-03-31</td>\n",
       "      <td>2024-02</td>\n",
       "    </tr>\n",
       "  </tbody>\n",
       "</table>\n",
       "</div>"
      ],
      "text/plain": [
       "   Unnamed: 0 HierarchyPathID CostObjectID  \\\n",
       "0           0       QU9124.01           01   \n",
       "1           1       QB2108.01           01   \n",
       "\n",
       "                          CostObjectName  OriginalGrossMargin  \\\n",
       "0  OCP Cadmium Removal Feasibility Study               531188   \n",
       "1                  Home Office Suffix 01                    0   \n",
       "\n",
       "   ActualGrossMargin  EACCostMargin  ClientPostedHours  ClientPostedCost  \\\n",
       "0                  0         495060               1335           2275319   \n",
       "1                  0              0                916            430644   \n",
       "\n",
       "   CostObjectHierarchyLevel ProjectStartDate ProjectEndDate TimePeriod  \n",
       "0                         1       2021-01-29     2021-03-26    2024-02  \n",
       "1                         1       2022-01-03     2022-03-31    2024-02  "
      ]
     },
     "execution_count": 4,
     "metadata": {},
     "output_type": "execute_result"
    }
   ],
   "source": [
    "data.head(2)\n"
   ]
  },
  {
   "cell_type": "code",
   "execution_count": 10,
   "id": "92d40787-0815-407a-b8dc-7bcdfbb10214",
   "metadata": {},
   "outputs": [],
   "source": [
    "project_colsb= data[['CostObjectName']]"
   ]
  },
  {
   "cell_type": "code",
   "execution_count": 15,
   "id": "63598d26-1ecf-4fec-9d92-dc74a1a5ed41",
   "metadata": {},
   "outputs": [
    {
     "data": {
      "text/html": [
       "<div>\n",
       "<style scoped>\n",
       "    .dataframe tbody tr th:only-of-type {\n",
       "        vertical-align: middle;\n",
       "    }\n",
       "\n",
       "    .dataframe tbody tr th {\n",
       "        vertical-align: top;\n",
       "    }\n",
       "\n",
       "    .dataframe thead th {\n",
       "        text-align: right;\n",
       "    }\n",
       "</style>\n",
       "<table border=\"1\" class=\"dataframe\">\n",
       "  <thead>\n",
       "    <tr style=\"text-align: right;\">\n",
       "      <th></th>\n",
       "      <th>CostObjectName</th>\n",
       "    </tr>\n",
       "  </thead>\n",
       "  <tbody>\n",
       "    <tr>\n",
       "      <th>0</th>\n",
       "      <td>OCP Cadmium Removal Feasibility Study</td>\n",
       "    </tr>\n",
       "    <tr>\n",
       "      <th>1</th>\n",
       "      <td>Home Office Suffix 01</td>\n",
       "    </tr>\n",
       "    <tr>\n",
       "      <th>2</th>\n",
       "      <td>Column Flotation Testing</td>\n",
       "    </tr>\n",
       "    <tr>\n",
       "      <th>3</th>\n",
       "      <td>Home Office Suffix 11</td>\n",
       "    </tr>\n",
       "    <tr>\n",
       "      <th>4</th>\n",
       "      <td>OCP Digital Cockpit</td>\n",
       "    </tr>\n",
       "    <tr>\n",
       "      <th>...</th>\n",
       "      <td>...</td>\n",
       "    </tr>\n",
       "    <tr>\n",
       "      <th>1470</th>\n",
       "      <td>Marsa Maroc Maintenance &amp; Reliability Assessment</td>\n",
       "    </tr>\n",
       "    <tr>\n",
       "      <th>1474</th>\n",
       "      <td>Mzinda / Youssoufia Stockyard</td>\n",
       "    </tr>\n",
       "    <tr>\n",
       "      <th>1846</th>\n",
       "      <td>The FEED for Jorf and Safi desalinated water p...</td>\n",
       "    </tr>\n",
       "    <tr>\n",
       "      <th>1852</th>\n",
       "      <td>SWRO Jorf Lasfar phase 2 P5 Construction, Comm...</td>\n",
       "    </tr>\n",
       "    <tr>\n",
       "      <th>1858</th>\n",
       "      <td>Jorf desalination phase 3</td>\n",
       "    </tr>\n",
       "  </tbody>\n",
       "</table>\n",
       "<p>551 rows × 1 columns</p>\n",
       "</div>"
      ],
      "text/plain": [
       "                                         CostObjectName\n",
       "0                 OCP Cadmium Removal Feasibility Study\n",
       "1                                 Home Office Suffix 01\n",
       "2                              Column Flotation Testing\n",
       "3                                 Home Office Suffix 11\n",
       "4                                   OCP Digital Cockpit\n",
       "...                                                 ...\n",
       "1470   Marsa Maroc Maintenance & Reliability Assessment\n",
       "1474                      Mzinda / Youssoufia Stockyard\n",
       "1846  The FEED for Jorf and Safi desalinated water p...\n",
       "1852  SWRO Jorf Lasfar phase 2 P5 Construction, Comm...\n",
       "1858                          Jorf desalination phase 3\n",
       "\n",
       "[551 rows x 1 columns]"
      ]
     },
     "execution_count": 15,
     "metadata": {},
     "output_type": "execute_result"
    }
   ],
   "source": [
    "project_colsb.drop_duplicates()"
   ]
  },
  {
   "cell_type": "code",
   "execution_count": 5,
   "id": "1568c9c3-208b-4adc-95ea-f52c4834900d",
   "metadata": {},
   "outputs": [
    {
     "data": {
      "text/plain": [
       "Index(['Unnamed: 0', 'HierarchyPathID', 'CostObjectID', 'CostObjectName',\n",
       "       'OriginalGrossMargin', 'ActualGrossMargin', 'EACCostMargin',\n",
       "       'ClientPostedHours', 'ClientPostedCost', 'CostObjectHierarchyLevel',\n",
       "       'ProjectStartDate', 'ProjectEndDate', 'TimePeriod'],\n",
       "      dtype='object')"
      ]
     },
     "execution_count": 5,
     "metadata": {},
     "output_type": "execute_result"
    }
   ],
   "source": [
    "data.columns"
   ]
  },
  {
   "cell_type": "code",
   "execution_count": 15,
   "id": "18694105-27a5-4a56-b069-dca5050e75f2",
   "metadata": {},
   "outputs": [],
   "source": [
    "margin=data[['OriginalGrossMargin', 'ActualGrossMargin', 'EACCostMargin']] ## MAD currency"
   ]
  },
  {
   "cell_type": "code",
   "execution_count": 19,
   "id": "c434c1d3-26f8-4c1d-a7f9-c3309c8c4239",
   "metadata": {},
   "outputs": [
    {
     "name": "stderr",
     "output_type": "stream",
     "text": [
      "/tmp/ipykernel_21790/3208265408.py:1: SettingWithCopyWarning: \n",
      "A value is trying to be set on a copy of a slice from a DataFrame.\n",
      "Try using .loc[row_indexer,col_indexer] = value instead\n",
      "\n",
      "See the caveats in the documentation: https://pandas.pydata.org/pandas-docs/stable/user_guide/indexing.html#returning-a-view-versus-a-copy\n",
      "  margin['sub_maring'] =margin['OriginalGrossMargin'] - margin['ActualGrossMargin'] ## Gross magrin is MAD\n"
     ]
    }
   ],
   "source": [
    "margin['sub_maring'] =margin['OriginalGrossMargin'] - margin['ActualGrossMargin'] ## Gross magrin is MAD "
   ]
  },
  {
   "cell_type": "code",
   "execution_count": 20,
   "id": "64855a4d-35d1-4730-bea2-977d47aaf958",
   "metadata": {},
   "outputs": [
    {
     "data": {
      "text/plain": [
       "0       531188\n",
       "1            0\n",
       "2       167001\n",
       "3            0\n",
       "4            0\n",
       "         ...  \n",
       "2003         0\n",
       "2004         0\n",
       "2005         0\n",
       "2006         0\n",
       "2007         0\n",
       "Name: sub_maring, Length: 2008, dtype: int64"
      ]
     },
     "execution_count": 20,
     "metadata": {},
     "output_type": "execute_result"
    }
   ],
   "source": [
    "margin['sub_maring']"
   ]
  }
 ],
 "metadata": {
  "kernelspec": {
   "display_name": "Python 3 (ipykernel)",
   "language": "python",
   "name": "python3"
  },
  "language_info": {
   "codemirror_mode": {
    "name": "ipython",
    "version": 3
   },
   "file_extension": ".py",
   "mimetype": "text/x-python",
   "name": "python",
   "nbconvert_exporter": "python",
   "pygments_lexer": "ipython3",
   "version": "3.11.8"
  }
 },
 "nbformat": 4,
 "nbformat_minor": 5
}
